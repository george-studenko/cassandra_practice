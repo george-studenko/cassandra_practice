{
 "cells": [
  {
   "cell_type": "markdown",
   "metadata": {},
   "source": [
    "# Part I. ETL Pipeline for Pre-Processing the Files"
   ]
  },
  {
   "cell_type": "markdown",
   "metadata": {},
   "source": [
    "#### Import Python packages "
   ]
  },
  {
   "cell_type": "code",
   "metadata": {
    "ExecuteTime": {
     "end_time": "2025-03-15T07:49:06.294713Z",
     "start_time": "2025-03-15T07:49:06.292309Z"
    }
   },
   "source": [
    "import os\n",
    "import glob\n",
    "import csv"
   ],
   "outputs": [],
   "execution_count": 97
  },
  {
   "cell_type": "markdown",
   "metadata": {},
   "source": [
    "#### Creating list of filepaths to process original event csv data files"
   ]
  },
  {
   "cell_type": "code",
   "metadata": {
    "ExecuteTime": {
     "end_time": "2025-03-15T07:49:06.312334Z",
     "start_time": "2025-03-15T07:49:06.308794Z"
    }
   },
   "source": [
    "# checking your current working directory\n",
    "print(os.getcwd())\n",
    "\n",
    "# Get your current folder and subfolder event data\n",
    "filepath = os.getcwd() + '/event_data'\n",
    "\n",
    "# Create a for loop to create a list of files and collect each filepath\n",
    "for root, dirs, files in os.walk(filepath):\n",
    "    \n",
    "# join the file path and roots with the subdirectories using glob\n",
    "    file_path_list = glob.glob(os.path.join(root,'*'))\n",
    "    print(file_path_list)"
   ],
   "outputs": [
    {
     "name": "stdout",
     "output_type": "stream",
     "text": [
      "/Users/george/Documents/Elite Dangerous/Data engineering/Udacity/Data/Data modeing Cassandra project/workspace/home\n",
      "['/Users/george/Documents/Elite Dangerous/Data engineering/Udacity/Data/Data modeing Cassandra project/workspace/home/event_data/2018-11-15-events.csv', '/Users/george/Documents/Elite Dangerous/Data engineering/Udacity/Data/Data modeing Cassandra project/workspace/home/event_data/2018-11-22-events.csv', '/Users/george/Documents/Elite Dangerous/Data engineering/Udacity/Data/Data modeing Cassandra project/workspace/home/event_data/2018-11-09-events.csv', '/Users/george/Documents/Elite Dangerous/Data engineering/Udacity/Data/Data modeing Cassandra project/workspace/home/event_data/2018-11-18-events.csv', '/Users/george/Documents/Elite Dangerous/Data engineering/Udacity/Data/Data modeing Cassandra project/workspace/home/event_data/2018-11-04-events.csv', '/Users/george/Documents/Elite Dangerous/Data engineering/Udacity/Data/Data modeing Cassandra project/workspace/home/event_data/2018-11-01-events.csv', '/Users/george/Documents/Elite Dangerous/Data engineering/Udacity/Data/Data modeing Cassandra project/workspace/home/event_data/2018-11-27-events.csv', '/Users/george/Documents/Elite Dangerous/Data engineering/Udacity/Data/Data modeing Cassandra project/workspace/home/event_data/2018-11-10-events.csv', '/Users/george/Documents/Elite Dangerous/Data engineering/Udacity/Data/Data modeing Cassandra project/workspace/home/event_data/2018-11-20-events.csv', '/Users/george/Documents/Elite Dangerous/Data engineering/Udacity/Data/Data modeing Cassandra project/workspace/home/event_data/2018-11-17-events.csv', '/Users/george/Documents/Elite Dangerous/Data engineering/Udacity/Data/Data modeing Cassandra project/workspace/home/event_data/2018-11-06-events.csv', '/Users/george/Documents/Elite Dangerous/Data engineering/Udacity/Data/Data modeing Cassandra project/workspace/home/event_data/2018-11-03-events.csv', '/Users/george/Documents/Elite Dangerous/Data engineering/Udacity/Data/Data modeing Cassandra project/workspace/home/event_data/2018-11-28-events.csv', '/Users/george/Documents/Elite Dangerous/Data engineering/Udacity/Data/Data modeing Cassandra project/workspace/home/event_data/2018-11-12-events.csv', '/Users/george/Documents/Elite Dangerous/Data engineering/Udacity/Data/Data modeing Cassandra project/workspace/home/event_data/2018-11-25-events.csv', '/Users/george/Documents/Elite Dangerous/Data engineering/Udacity/Data/Data modeing Cassandra project/workspace/home/event_data/2018-11-26-events.csv', '/Users/george/Documents/Elite Dangerous/Data engineering/Udacity/Data/Data modeing Cassandra project/workspace/home/event_data/2018-11-11-events.csv', '/Users/george/Documents/Elite Dangerous/Data engineering/Udacity/Data/Data modeing Cassandra project/workspace/home/event_data/2018-11-14-events.csv', '/Users/george/Documents/Elite Dangerous/Data engineering/Udacity/Data/Data modeing Cassandra project/workspace/home/event_data/2018-11-23-events.csv', '/Users/george/Documents/Elite Dangerous/Data engineering/Udacity/Data/Data modeing Cassandra project/workspace/home/event_data/2018-11-08-events.csv', '/Users/george/Documents/Elite Dangerous/Data engineering/Udacity/Data/Data modeing Cassandra project/workspace/home/event_data/2018-11-19-events.csv', '/Users/george/Documents/Elite Dangerous/Data engineering/Udacity/Data/Data modeing Cassandra project/workspace/home/event_data/2018-11-05-events.csv', '/Users/george/Documents/Elite Dangerous/Data engineering/Udacity/Data/Data modeing Cassandra project/workspace/home/event_data/2018-11-02-events.csv', '/Users/george/Documents/Elite Dangerous/Data engineering/Udacity/Data/Data modeing Cassandra project/workspace/home/event_data/2018-11-29-events.csv', '/Users/george/Documents/Elite Dangerous/Data engineering/Udacity/Data/Data modeing Cassandra project/workspace/home/event_data/2018-11-13-events.csv', '/Users/george/Documents/Elite Dangerous/Data engineering/Udacity/Data/Data modeing Cassandra project/workspace/home/event_data/2018-11-24-events.csv', '/Users/george/Documents/Elite Dangerous/Data engineering/Udacity/Data/Data modeing Cassandra project/workspace/home/event_data/2018-11-21-events.csv', '/Users/george/Documents/Elite Dangerous/Data engineering/Udacity/Data/Data modeing Cassandra project/workspace/home/event_data/2018-11-16-events.csv', '/Users/george/Documents/Elite Dangerous/Data engineering/Udacity/Data/Data modeing Cassandra project/workspace/home/event_data/2018-11-07-events.csv', '/Users/george/Documents/Elite Dangerous/Data engineering/Udacity/Data/Data modeing Cassandra project/workspace/home/event_data/2018-11-30-events.csv']\n"
     ]
    }
   ],
   "execution_count": 98
  },
  {
   "cell_type": "markdown",
   "metadata": {},
   "source": [
    "#### Processing the files to create the data file csv that will be used for Apache Casssandra tables"
   ]
  },
  {
   "cell_type": "code",
   "metadata": {
    "ExecuteTime": {
     "end_time": "2025-03-15T07:49:06.367102Z",
     "start_time": "2025-03-15T07:49:06.328956Z"
    }
   },
   "source": [
    "# initiating an empty list of rows that will be generated from each file\n",
    "full_data_rows_list = [] \n",
    "    \n",
    "# for every filepath in the file path list \n",
    "for f in file_path_list:\n",
    "\n",
    "# reading csv file \n",
    "    with open(f, 'r', encoding = 'utf8', newline='') as csvfile: \n",
    "        # creating a csv reader object \n",
    "        csvreader = csv.reader(csvfile) \n",
    "        next(csvreader)\n",
    "        \n",
    " # extracting each data row one by one and append it        \n",
    "        for line in csvreader:\n",
    "            full_data_rows_list.append(line)\n",
    "\n",
    "# creating a smaller event data csv file called event_datafile_full csv that will be used to insert data into the \\\n",
    "# Apache Cassandra tables\n",
    "csv.register_dialect('myDialect', quoting=csv.QUOTE_ALL, skipinitialspace=True)\n",
    "\n",
    "with open('event_datafile_new.csv', 'w', encoding = 'utf8', newline='') as f:\n",
    "    writer = csv.writer(f, dialect='myDialect')\n",
    "    writer.writerow(['artist','firstName','gender','itemInSession','lastName','length',\\\n",
    "                'level','location','sessionId','song','userId'])\n",
    "    for row in full_data_rows_list:\n",
    "        if (row[0] == ''):\n",
    "            continue\n",
    "        writer.writerow((row[0], row[2], row[3], row[4], row[5], row[6], row[7], row[8], row[12], row[13], row[16]))\n"
   ],
   "outputs": [],
   "execution_count": 99
  },
  {
   "cell_type": "code",
   "metadata": {
    "ExecuteTime": {
     "end_time": "2025-03-15T07:49:06.376039Z",
     "start_time": "2025-03-15T07:49:06.372093Z"
    }
   },
   "source": [
    "# check the number of rows in your csv file\n",
    "with open('event_datafile_new.csv', 'r', encoding = 'utf8') as f:\n",
    "    print(sum(1 for line in f))\n",
    "\n",
    "    print(line)"
   ],
   "outputs": [
    {
     "name": "stdout",
     "output_type": "stream",
     "text": [
      "6821\n",
      "['Deas Vail', 'Logged In', 'Elijah', 'M', '0', 'Davis', '237.68771', 'free', 'Detroit-Warren-Dearborn, MI', 'PUT', 'NextSong', '1.54077E+12', '985', 'Anything You Say (Unreleased Version)', '200', '1.54361E+12', '5']\n"
     ]
    }
   ],
   "execution_count": 100
  },
  {
   "cell_type": "markdown",
   "metadata": {},
   "source": [
    "## The event_datafile_new.csv contains the following columns:\n",
    "- artist \n",
    "- firstName of user\n",
    "- gender of user\n",
    "- item number in session\n",
    "- last name of user\n",
    "- length of the song\n",
    "- level (paid or free song)\n",
    "- location of the user\n",
    "- sessionId\n",
    "- song title\n",
    "- userId\n",
    "\n",
    "The image below is a screenshot of what the denormalized data should appear like in the <font color=red>**event_datafile_new.csv**</font> after the code above is run:<br>\n",
    "\n",
    "<img src=\"images/image_event_datafile_new.jpg\">"
   ]
  },
  {
   "cell_type": "markdown",
   "metadata": {},
   "source": [
    "#### Creating a Cluster"
   ]
  },
  {
   "cell_type": "code",
   "metadata": {
    "ExecuteTime": {
     "end_time": "2025-03-15T07:49:06.467011Z",
     "start_time": "2025-03-15T07:49:06.387407Z"
    }
   },
   "source": [
    "# This should make a connection to a Cassandra instance on local\n",
    "# (127.0.0.1)\n",
    "\n",
    "from cassandra.cluster import Cluster\n",
    "cluster = Cluster(['127.0.0.1'])\n",
    "\n",
    "# To establish connection and begin executing queries, need a session\n",
    "session = cluster.connect()"
   ],
   "outputs": [],
   "execution_count": 101
  },
  {
   "cell_type": "code",
   "metadata": {
    "ExecuteTime": {
     "end_time": "2025-03-15T07:49:06.476793Z",
     "start_time": "2025-03-15T07:49:06.473535Z"
    }
   },
   "source": [
    "session"
   ],
   "outputs": [
    {
     "data": {
      "text/plain": [
       "<cassandra.cluster.Session at 0x10518cdd0>"
      ]
     },
     "execution_count": 102,
     "metadata": {},
     "output_type": "execute_result"
    }
   ],
   "execution_count": 102
  },
  {
   "cell_type": "markdown",
   "metadata": {},
   "source": [
    "#### Create Keyspace"
   ]
  },
  {
   "cell_type": "code",
   "metadata": {
    "ExecuteTime": {
     "end_time": "2025-03-15T07:49:06.495294Z",
     "start_time": "2025-03-15T07:49:06.491217Z"
    }
   },
   "source": [
    "create_keyspace_query = \"CREATE KEYSPACE IF NOT EXISTS sparkify \\\n",
    "                        WITH REPLICATION = {'class': 'SimpleStrategy', \\\n",
    "                                            'replication_factor':1}\"\n",
    "session.execute(create_keyspace_query)"
   ],
   "outputs": [
    {
     "data": {
      "text/plain": [
       "<cassandra.cluster.ResultSet at 0x1051a7e00>"
      ]
     },
     "execution_count": 103,
     "metadata": {},
     "output_type": "execute_result"
    }
   ],
   "execution_count": 103
  },
  {
   "cell_type": "markdown",
   "metadata": {},
   "source": [
    "#### Set Keyspace"
   ]
  },
  {
   "cell_type": "code",
   "metadata": {
    "ExecuteTime": {
     "end_time": "2025-03-15T07:49:06.516413Z",
     "start_time": "2025-03-15T07:49:06.512896Z"
    }
   },
   "source": [
    "session.set_keyspace('sparkify')"
   ],
   "outputs": [],
   "execution_count": 104
  },
  {
   "cell_type": "markdown",
   "metadata": {},
   "source": [
    "## Create queries to ask the following three questions of the data\n",
    "\n",
    "### 1. Give me the artist, song title and song's length in the music app history that was heard during  sessionId = 338, and itemInSession  = 4\n",
    "\n",
    "\n",
    "### 2. Give me only the following: name of artist, song (sorted by itemInSession) and user (first and last name) for userid = 10, sessionid = 182\n",
    "    \n",
    "\n",
    "### 3. Give me every user name (first and last) in my music app history who listened to the song 'All Hands Against His Own'\n",
    "\n",
    "\n"
   ]
  },
  {
   "cell_type": "code",
   "metadata": {
    "ExecuteTime": {
     "end_time": "2025-03-15T07:49:06.530985Z",
     "start_time": "2025-03-15T07:49:06.529196Z"
    }
   },
   "source": [
    "# column indexes\n",
    "artist = 0\n",
    "firstName = 1\n",
    "gender = 2\n",
    "itemInSession=3\n",
    "lastName=4\n",
    "length=5\n",
    "level=6\n",
    "location=7\n",
    "sessionId=8\n",
    "song=9\n",
    "userId=10"
   ],
   "outputs": [],
   "execution_count": 105
  },
  {
   "cell_type": "markdown",
   "metadata": {},
   "source": [
    "## Query 1\n",
    "### Table Name: songs_per_sessions\n",
    "**Purpose:**\n",
    "- Give me the artist, song title and song's length in the music app history that was heard during sessionId = 338, and itemInSession = 4\n",
    "\n",
    "- To retrieve the artist, song title and length based on sessionId and itemInSession.\n",
    "\n",
    "**Primary Key:**\n",
    "- **Partition Key:**\n",
    "SessionId and  (Used to partition data by SessionId)\n",
    "\n",
    "- **Clustering Key:**\n",
    "itemInSession (Used to sort the songs within a session by the order itemInSession.)\n",
    "\n",
    "- **Reasoning:** Sessions are unique per user, but repeats as many times as itemInSessions, the combination of both are unique, sorting by itemInSession makes sense"
   ]
  },
  {
   "cell_type": "code",
   "metadata": {
    "ExecuteTime": {
     "end_time": "2025-03-15T07:49:07.031679Z",
     "start_time": "2025-03-15T07:49:06.536006Z"
    }
   },
   "source": [
    "## Query 1:  Give me the artist, song title and song's length in the music app history that was heard during \\\n",
    "## sessionId = 338, and itemInSession = 4\n",
    "\n",
    "query = 'CREATE TABLE songs_per_sessions (\\\n",
    "        sessionId int,\\\n",
    "        itemInSession int, \\\n",
    "        artist text,\\\n",
    "        song text,\\\n",
    "        length decimal, \\\n",
    "        PRIMARY KEY(sessionId,itemInSession) )'\n",
    "session.execute(query)\n",
    "                    "
   ],
   "outputs": [
    {
     "data": {
      "text/plain": [
       "<cassandra.cluster.ResultSet at 0x104cd41d0>"
      ]
     },
     "execution_count": 106,
     "metadata": {},
     "output_type": "execute_result"
    }
   ],
   "execution_count": 106
  },
  {
   "cell_type": "code",
   "metadata": {
    "ExecuteTime": {
     "end_time": "2025-03-15T07:49:08.567574Z",
     "start_time": "2025-03-15T07:49:07.039866Z"
    }
   },
   "source": [
    "file = 'event_datafile_new.csv'\n",
    "\n",
    "with open(file, encoding = 'utf8') as f:\n",
    "    csvreader = csv.reader(f)\n",
    "    next(csvreader) # skip header\n",
    "    for line in csvreader:\n",
    "        query = \"INSERT INTO songs_per_sessions (sessionId,itemInSession,artist,song,length)\"\n",
    "        query = query + \"VALUES (%s,%s,%s,%s,%s)\"\n",
    "        session.execute(query, (int(line[sessionId]),int(line[itemInSession]),line[artist],line[song], float(line[length])))"
   ],
   "outputs": [],
   "execution_count": 107
  },
  {
   "cell_type": "markdown",
   "metadata": {},
   "source": [
    "#### Do a SELECT to verify that the data have been inserted into each table"
   ]
  },
  {
   "cell_type": "code",
   "metadata": {
    "scrolled": true,
    "ExecuteTime": {
     "end_time": "2025-03-15T07:49:08.576825Z",
     "start_time": "2025-03-15T07:49:08.573087Z"
    }
   },
   "source": [
    "select_songs_per_sessions_query = 'SELECT artist,song,length FROM songs_per_sessions \\\n",
    "                                   WHERE sessionId=338 and itemInSession = 4'\n",
    "rows = session.execute(select_songs_per_sessions_query)\n",
    "for row in rows:\n",
    "    print(row)"
   ],
   "outputs": [
    {
     "name": "stdout",
     "output_type": "stream",
     "text": [
      "Row(artist='Faithless', song='Music Matters (Mark Knight Dub)', length=Decimal('495.3073'))\n"
     ]
    }
   ],
   "execution_count": 108
  },
  {
   "cell_type": "markdown",
   "metadata": {},
   "source": [
    "## Query 2\n",
    "### Table Name: songs_per_user\n",
    "**Purpose:**\n",
    "- Give me only the following: name of artist, song (sorted by itemInSession) and user (first and last name) for userid = 10, sessionid = 182\n",
    "\n",
    "- To retrieve the artist, song title sorted by itemInSession and user's first and last name for a specific userId and sessionId.\n",
    "\n",
    "**Primary Key:**\n",
    "- **Partition Key:**\n",
    "userId and sessionId\n",
    "\n",
    "- **Clustering Key:**\n",
    "itemInSession (Used to sort the songs within a session by the order itemInSession.)\n",
    "\n",
    "- **Reasoning:** Query will filter by userId and sessionId so we need those as a composed primary key for performance, if we want to sort by itemInSession we need to use it as a clusteringId"
   ]
  },
  {
   "cell_type": "code",
   "metadata": {
    "ExecuteTime": {
     "end_time": "2025-03-15T07:49:08.823480Z",
     "start_time": "2025-03-15T07:49:08.590258Z"
    }
   },
   "source": [
    "## Query 2: Give me only the following: name of artist, song (sorted by itemInSession) and user (first and last name)\\\n",
    "## for userid = 10, sessionid = 182\n",
    "query = 'CREATE TABLE songs_per_user (\\\n",
    "        userid int, \\\n",
    "        sessionId int,\\\n",
    "        itemInSession int, \\\n",
    "        artist text,\\\n",
    "        song text,\\\n",
    "        firstName text,\\\n",
    "        lastName text,\\\n",
    "        PRIMARY KEY((userid,sessionId),itemInSession))'\n",
    "session.execute(query)"
   ],
   "outputs": [
    {
     "data": {
      "text/plain": [
       "<cassandra.cluster.ResultSet at 0x1051821b0>"
      ]
     },
     "execution_count": 109,
     "metadata": {},
     "output_type": "execute_result"
    }
   ],
   "execution_count": 109
  },
  {
   "cell_type": "code",
   "metadata": {
    "ExecuteTime": {
     "end_time": "2025-03-15T07:49:10.327103Z",
     "start_time": "2025-03-15T07:49:08.831431Z"
    }
   },
   "source": [
    "file = 'event_datafile_new.csv'\n",
    "\n",
    "with open(file, encoding = 'utf8') as f:\n",
    "    csvreader = csv.reader(f)\n",
    "    next(csvreader) # skip header\n",
    "    for line in csvreader:\n",
    "        query = \"INSERT INTO songs_per_user (userid,sessionId,itemInSession,artist,song,firstName,lastName)\"\n",
    "        query = query + \"VALUES (%s,%s,%s,%s,%s,%s,%s)\"\n",
    "        session.execute(query, (int(line[userId]),int(line[sessionId]),int(line[itemInSession]),line[artist],line[song],line[firstName],line[lastName]))"
   ],
   "outputs": [],
   "execution_count": 110
  },
  {
   "cell_type": "code",
   "metadata": {
    "ExecuteTime": {
     "end_time": "2025-03-15T07:49:10.336810Z",
     "start_time": "2025-03-15T07:49:10.333025Z"
    }
   },
   "source": [
    "select_songs_per_sessions_query = 'SELECT artist,song,itemInSession,firstName,lastName FROM songs_per_user \\\n",
    "                                   WHERE userid = 10 and sessionid = 182'\n",
    "rows = session.execute(select_songs_per_sessions_query)\n",
    "for row in rows:\n",
    "    print(row)"
   ],
   "outputs": [
    {
     "name": "stdout",
     "output_type": "stream",
     "text": [
      "Row(artist='Down To The Bone', song=\"Keep On Keepin' On\", iteminsession=0, firstname='Sylvie', lastname='Cruz')\n",
      "Row(artist='Three Drives', song='Greece 2000', iteminsession=1, firstname='Sylvie', lastname='Cruz')\n",
      "Row(artist='Sebastien Tellier', song='Kilometer', iteminsession=2, firstname='Sylvie', lastname='Cruz')\n",
      "Row(artist='Lonnie Gordon', song='Catch You Baby (Steve Pitron & Max Sanna Radio Edit)', iteminsession=3, firstname='Sylvie', lastname='Cruz')\n"
     ]
    }
   ],
   "execution_count": 111
  },
  {
   "cell_type": "markdown",
   "metadata": {},
   "source": [
    "## Query 3\n",
    "### Table Name: user_names_per_song\n",
    "**Purpose:**\n",
    "- Give me every user name (first and last) in my music app history who listened to the song 'All Hands Against His Own'\n",
    "\n",
    "- To retrieve the user first and last names for all users who listened to a specific song\n",
    "\n",
    "**Primary Key:**\n",
    "- **Partition Key:**\n",
    "song\n",
    "\n",
    "- **Clustering Key:**\n",
    "userId\n",
    "\n",
    "- **Reasoning:** song primary key ensures all users who listened to the same song are stored together making the filter efficient, adding userId as the clustering key guarantees uniqueness per user."
   ]
  },
  {
   "cell_type": "code",
   "metadata": {
    "ExecuteTime": {
     "end_time": "2025-03-15T07:49:10.525973Z",
     "start_time": "2025-03-15T07:49:10.348962Z"
    }
   },
   "source": [
    "## Query 3: Give me every user name (first and last) in my music app history who listened to the song 'All Hands Against His Own'\n",
    "query = 'CREATE TABLE user_names_per_song (\\\n",
    "        song text,\\\n",
    "        userid int,\\\n",
    "        firstName text,\\\n",
    "        lastName text,\\\n",
    "        PRIMARY KEY(song,userid)\\\n",
    "        )'\n",
    "session.execute(query)\n",
    "                    "
   ],
   "outputs": [
    {
     "data": {
      "text/plain": [
       "<cassandra.cluster.ResultSet at 0x104d0bf20>"
      ]
     },
     "execution_count": 112,
     "metadata": {},
     "output_type": "execute_result"
    }
   ],
   "execution_count": 112
  },
  {
   "cell_type": "code",
   "metadata": {
    "ExecuteTime": {
     "end_time": "2025-03-15T07:49:11.948707Z",
     "start_time": "2025-03-15T07:49:10.533482Z"
    }
   },
   "source": [
    "file = 'event_datafile_new.csv'\n",
    "\n",
    "with open(file, encoding = 'utf8') as f:\n",
    "    csvreader = csv.reader(f)\n",
    "    next(csvreader) # skip header\n",
    "    for line in csvreader:\n",
    "        query = \"INSERT INTO user_names_per_song (song,userid,firstName,lastName)\"\n",
    "        query = query + \"VALUES (%s,%s,%s,%s)\"\n",
    "        session.execute(query, (line[song],int(line[userId]),line[firstName],line[lastName]))"
   ],
   "outputs": [],
   "execution_count": 113
  },
  {
   "cell_type": "code",
   "metadata": {
    "ExecuteTime": {
     "end_time": "2025-03-15T07:49:11.958601Z",
     "start_time": "2025-03-15T07:49:11.955066Z"
    }
   },
   "source": [
    "select_songs_per_sessions_query = \"SELECT firstName,lastName FROM user_names_per_song \\\n",
    "                                   WHERE song ='All Hands Against His Own'\"\n",
    "rows = session.execute(select_songs_per_sessions_query)\n",
    "for row in rows:\n",
    "    print(row)"
   ],
   "outputs": [
    {
     "name": "stdout",
     "output_type": "stream",
     "text": [
      "Row(firstname='Jacqueline', lastname='Lynch')\n",
      "Row(firstname='Tegan', lastname='Levine')\n",
      "Row(firstname='Sara', lastname='Johnson')\n"
     ]
    }
   ],
   "execution_count": 114
  },
  {
   "cell_type": "markdown",
   "metadata": {},
   "source": [
    "### Drop the tables before closing out the sessions"
   ]
  },
  {
   "cell_type": "code",
   "metadata": {
    "ExecuteTime": {
     "end_time": "2025-03-15T07:49:13.830230Z",
     "start_time": "2025-03-15T07:49:11.976958Z"
    }
   },
   "source": [
    "drop_songs_per_session_query = 'DROP TABLE songs_per_sessions'\n",
    "session.execute(drop_songs_per_session_query)\n",
    "\n",
    "drop_songs_per_user_query = 'DROP TABLE songs_per_user'\n",
    "session.execute(drop_songs_per_user_query)\n",
    "\n",
    "drop_songs_per_user_query = 'DROP TABLE user_names_per_song'\n",
    "session.execute(drop_songs_per_user_query)"
   ],
   "outputs": [
    {
     "data": {
      "text/plain": [
       "<cassandra.cluster.ResultSet at 0x104f4a570>"
      ]
     },
     "execution_count": 115,
     "metadata": {},
     "output_type": "execute_result"
    }
   ],
   "execution_count": 115
  },
  {
   "cell_type": "markdown",
   "metadata": {},
   "source": [
    "### Close the session and cluster connection¶"
   ]
  },
  {
   "cell_type": "code",
   "metadata": {
    "ExecuteTime": {
     "end_time": "2025-03-15T07:49:13.982980Z",
     "start_time": "2025-03-15T07:49:13.909043Z"
    }
   },
   "source": [
    "session.shutdown()\n",
    "cluster.shutdown()"
   ],
   "outputs": [],
   "execution_count": 116
  },
  {
   "metadata": {
    "ExecuteTime": {
     "end_time": "2025-03-15T07:49:13.988041Z",
     "start_time": "2025-03-15T07:49:13.986520Z"
    }
   },
   "cell_type": "code",
   "source": "",
   "outputs": [],
   "execution_count": null
  }
 ],
 "metadata": {
  "kernelspec": {
   "display_name": "Python 3.12 Cassandra",
   "language": "python",
   "name": "venv"
  },
  "language_info": {
   "codemirror_mode": {
    "name": "ipython",
    "version": 3
   },
   "file_extension": ".py",
   "mimetype": "text/x-python",
   "name": "python",
   "nbconvert_exporter": "python",
   "pygments_lexer": "ipython3",
   "version": "3.12.3"
  }
 },
 "nbformat": 4,
 "nbformat_minor": 4
}
